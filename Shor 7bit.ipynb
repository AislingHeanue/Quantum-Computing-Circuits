{
 "cells": [
  {
   "cell_type": "code",
   "execution_count": 1,
   "metadata": {},
   "outputs": [],
   "source": [
    "import matplotlib.pyplot as plt\n",
    "import numpy as np\n",
    "\n",
    "from qiskit import QuantumCircuit, Aer, execute, transpile, assemble, QuantumRegister, ClassicalRegister\n",
    "from qiskit.visualization import plot_histogram\n",
    "from qiskit import IBMQ"
   ]
  },
  {
   "cell_type": "code",
   "execution_count": 2,
   "metadata": {},
   "outputs": [],
   "source": [
    "def QFTd(n): #source: qiskit\n",
    "    circuit = QuantumCircuit(n)\n",
    "    for bit in range(n//2):\n",
    "        circuit.swap(bit,n-bit-1)\n",
    "    for j in range(n):\n",
    "        for m in range(j):\n",
    "            circuit.cp(-np.pi/(2**(j-m)), m, j) \n",
    "            #rotate by -pi/2^(j-m) on the bit j (target), which is controlled by each less significant bit m\n",
    "        circuit.h(j)\n",
    "    circuit.name = \"QFT\"\n",
    "    return circuit\n"
   ]
  },
  {
   "cell_type": "code",
   "execution_count": 3,
   "metadata": {},
   "outputs": [
    {
     "data": {
      "text/html": [
       "<pre style=\"word-wrap: normal;white-space: pre;background: #fff0;line-height: 1.1;font-family: &quot;Courier New&quot;,Courier,monospace\">         ┌───┐                                             ┌──────┐┌─┐      \n",
       "input_0: ┤ H ├───────■─────────────────────────────────────┤0     ├┤M├──────\n",
       "         ├───┤       │                                     │      │└╥┘┌─┐   \n",
       "input_1: ┤ H ├───────┼──────────────■──────────────────────┤1 QFT ├─╫─┤M├───\n",
       "         ├───┤       │              │                      │      │ ║ └╥┘┌─┐\n",
       "input_2: ┤ H ├───────┼──────────────┼──────────────■───────┤2     ├─╫──╫─┤M├\n",
       "         └───┘┌──────┴──────┐┌──────┴──────┐┌──────┴──────┐└──────┘ ║  ║ └╥┘\n",
       "    y_0: ─────┤0            ├┤0            ├┤0            ├─────────╫──╫──╫─\n",
       "              │             ││             ││             │         ║  ║  ║ \n",
       "    y_1: ─────┤1            ├┤1            ├┤1            ├─────────╫──╫──╫─\n",
       "              │  5^1 mod 33 ││  5^2 mod 33 ││  5^4 mod 33 │         ║  ║  ║ \n",
       "    y_2: ─────┤2            ├┤2            ├┤2            ├─────────╫──╫──╫─\n",
       "         ┌───┐│             ││             ││             │         ║  ║  ║ \n",
       "    y_3: ┤ X ├┤3            ├┤3            ├┤3            ├─────────╫──╫──╫─\n",
       "         └───┘└─────────────┘└─────────────┘└─────────────┘         ║  ║  ║ \n",
       "   c0: 3/═══════════════════════════════════════════════════════════╩══╩══╩═\n",
       "                                                                    0  1  2 </pre>"
      ],
      "text/plain": [
       "         ┌───┐                                             ┌──────┐┌─┐      \n",
       "input_0: ┤ H ├───────■─────────────────────────────────────┤0     ├┤M├──────\n",
       "         ├───┤       │                                     │      │└╥┘┌─┐   \n",
       "input_1: ┤ H ├───────┼──────────────■──────────────────────┤1 QFT ├─╫─┤M├───\n",
       "         ├───┤       │              │                      │      │ ║ └╥┘┌─┐\n",
       "input_2: ┤ H ├───────┼──────────────┼──────────────■───────┤2     ├─╫──╫─┤M├\n",
       "         └───┘┌──────┴──────┐┌──────┴──────┐┌──────┴──────┐└──────┘ ║  ║ └╥┘\n",
       "    y_0: ─────┤0            ├┤0            ├┤0            ├─────────╫──╫──╫─\n",
       "              │             ││             ││             │         ║  ║  ║ \n",
       "    y_1: ─────┤1            ├┤1            ├┤1            ├─────────╫──╫──╫─\n",
       "              │  5^1 mod 33 ││  5^2 mod 33 ││  5^4 mod 33 │         ║  ║  ║ \n",
       "    y_2: ─────┤2            ├┤2            ├┤2            ├─────────╫──╫──╫─\n",
       "         ┌───┐│             ││             ││             │         ║  ║  ║ \n",
       "    y_3: ┤ X ├┤3            ├┤3            ├┤3            ├─────────╫──╫──╫─\n",
       "         └───┘└─────────────┘└─────────────┘└─────────────┘         ║  ║  ║ \n",
       "   c0: 3/═══════════════════════════════════════════════════════════╩══╩══╩═\n",
       "                                                                    0  1  2 "
      ]
     },
     "execution_count": 3,
     "metadata": {},
     "output_type": "execute_result"
    }
   ],
   "source": [
    "power2 = 4\n",
    "global power2\n",
    "N = 2**power2 - 1\n",
    "\n",
    "def powermodp2(power): #controlled multiplication by 2^p (modulo 2^n-1)\n",
    "    global power2\n",
    "    U = QuantumCircuit(power2)\n",
    "    for i in range(power):\n",
    "        for j in range(power2-1):\n",
    "            U.swap(j,j+1)\n",
    "    U = U.to_gate()\n",
    "    U.name = \"5^\"+str(power)+\" mod \"+str(33)\n",
    "    c_U = U.control()\n",
    "    return c_U\n",
    "\n",
    "nbits = power2 - 1\n",
    "xreg = QuantumRegister(nbits,\"input\")\n",
    "y = QuantumRegister(power2,\"y\")\n",
    "cx = ClassicalRegister(nbits)\n",
    "qc = QuantumCircuit(xreg,y,cx)\n",
    "\n",
    "qc.h(xreg[:])\n",
    "qc.x(nbits + power2 - 1)\n",
    "for k in range(nbits):\n",
    "    qc.append(powermodp2(2**k),[k] + y[:])\n",
    "qc.append(QFTd(nbits),range(nbits))\n",
    "\n",
    "qc.measure(range(nbits),range(nbits))\n",
    "#qc = qc.decompose()\n",
    "qc.draw(fold=-1)\n"
   ]
  },
  {
   "cell_type": "code",
   "execution_count": 4,
   "metadata": {},
   "outputs": [
    {
     "data": {
      "image/png": "[encoded data removed]",
      "text/plain": [
       "<Figure size 504x360 with 1 Axes>"
      ]
     },
     "execution_count": 4,
     "metadata": {},
     "output_type": "execute_result"
    }
   ],
   "source": [
    "aersim = Aer.get_backend('aer_simulator') #set memory=True to see measurements\n",
    "tqc = transpile(qc,aersim)\n",
    "results = aersim.run(tqc,shots=10000).result()\n",
    "plot_histogram(results.get_counts())"
   ]
  },
  {
   "cell_type": "code",
   "execution_count": null,
   "metadata": {},
   "outputs": [],
   "source": [
    "\n",
    "provider = IBMQ.get_provider(hub='ibm-q')\n",
    "provider.backends()\n",
    "sevenqc = provider.backends(filters=lambda x: x.configuration().n_qubits == 7\n",
    "                                    and not x.configuration().simulator\n",
    "                                    and x.status().operational==True)\n",
    "print(least_busy(sevenqc))\n",
    "backend = least_busy(sevenqc)\n",
    "tqc = transpile(qc,backend)\n",
    "results = backend.run(tqc,shots=20000).result()"
   ]
  }
 ],
 "metadata": {
  "kernelspec": {
   "display_name": "Python 3",
   "language": "python",
   "name": "python3"
  },
  "language_info": {
   "codemirror_mode": {
    "name": "ipython",
    "version": 3
   },
   "file_extension": ".py",
   "mimetype": "text/x-python",
   "name": "python",
   "nbconvert_exporter": "python",
   "pygments_lexer": "ipython3",
   "version": "3.8.5"
  }
 },
 "nbformat": 4,
 "nbformat_minor": 4
}
